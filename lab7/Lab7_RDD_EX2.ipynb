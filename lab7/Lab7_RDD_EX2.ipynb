{
 "cells": [
  {
   "cell_type": "code",
   "execution_count": 1,
   "id": "69c65a42",
   "metadata": {},
   "outputs": [],
   "source": [
    "from pyspark.sql import SparkSession\n",
    "from operator import add\n",
    "spark = SparkSession.builder.appName(\"Lab7_RDD_EX2\").master(\"spark://spark-master:7077\").getOrCreate() \n",
    "# A SparkContext represents the connection to a Spark cluster, and can be used to create RDDs, accumulators and broadcast variables on that cluster.\n",
    "sc = spark.sparkContext\n",
    "sc.setLogLevel('FATAL')\n",
    "lines_rdd = spark.sparkContext.textFile(\"/home/jovyan/data/employee_info.csv\") # create a RDD from a text file"
   ]
  },
  {
   "cell_type": "markdown",
   "id": "b5e1424d-b1ff-4e13-be95-84b10e8152c5",
   "metadata": {},
   "source": [
    "https://spark.apache.org/docs/latest/rdd-programming-guide.html\n",
    "\n",
    "## How many police officers are there at the POLICE department?"
   ]
  },
  {
   "cell_type": "code",
   "execution_count": 2,
   "id": "8eff4858",
   "metadata": {},
   "outputs": [
    {
     "name": "stdout",
     "output_type": "stream",
     "text": [
      "10639\n"
     ]
    }
   ],
   "source": [
    "def filterFun(x):\n",
    "    if \"POLICE OFFICER\" in x: \n",
    "        return True\n",
    "    return False\n",
    "\n",
    "print(lines_rdd.filter(filterFun).count())"
   ]
  },
  {
   "cell_type": "markdown",
   "id": "4017bfa0-4e4d-4d23-9d9a-5816ae0c2e2c",
   "metadata": {},
   "source": [
    "## Who is the lieutenant with the highest salary in the FIRE department?\n",
    "\n",
    "Note there are positions LIEUTENANT and LIEUTENANT-EMT"
   ]
  },
  {
   "cell_type": "code",
   "execution_count": 3,
   "id": "157d1ea8-56ae-4e32-9200-b5153a8c05a9",
   "metadata": {},
   "outputs": [
    {
     "name": "stdout",
     "output_type": "stream",
     "text": [
      "TIM P EDWARDS\n",
      "114846.0\n"
     ]
    }
   ],
   "source": [
    "from operator import add\n",
    "import re\n",
    "def filterFun2(x):\n",
    "    if \"FIRE\" in x and re.search(r'\\b,LIEUTENANT,\\b', x) is not None:  \n",
    "        return True\n",
    "    return False\n",
    "\n",
    "def mapFun(x):\n",
    "    vals = x.split(',')   \n",
    "    return (float(vals[-2]), vals[1] + ' ' + vals[0])\n",
    "\n",
    "fire_lie_rdd = lines_rdd.filter(filterFun2)\n",
    "output = fire_lie_rdd.map(mapFun).sortByKey(ascending=False).take(1) \n",
    "salary, name = output[0]\n",
    "print(name)\n",
    "print(salary)"
   ]
  },
  {
   "cell_type": "markdown",
   "id": "4b346649-d315-40b2-9ed2-420aa52854d6",
   "metadata": {},
   "source": [
    "\\b matches the empty string at the beginning or end of a word. \n",
    "\n",
    "In Python, the letter 'r' preceding a string signifies a 'Raw String'. This instructs the Python interpreter to interpret backslashes in the string literally, rather than as escape characters, which is the default behavior.\n",
    "\n",
    "You can use negative indexing to access elements of a list or string from the end instead of the beginning. The index -1 refers to the last element in the list, and -2 refers to the second last element.\n"
   ]
  },
  {
   "cell_type": "code",
   "execution_count": 4,
   "id": "9cc727df-50c0-4297-aad7-bcb57d715401",
   "metadata": {},
   "outputs": [],
   "source": [
    "# Stop the spark context\n",
    "spark.stop()"
   ]
  }
 ],
 "metadata": {
  "kernelspec": {
   "display_name": "Python 3 (ipykernel)",
   "language": "python",
   "name": "python3"
  },
  "language_info": {
   "codemirror_mode": {
    "name": "ipython",
    "version": 3
   },
   "file_extension": ".py",
   "mimetype": "text/x-python",
   "name": "python",
   "nbconvert_exporter": "python",
   "pygments_lexer": "ipython3",
   "version": "3.11.6"
  }
 },
 "nbformat": 4,
 "nbformat_minor": 5
}
