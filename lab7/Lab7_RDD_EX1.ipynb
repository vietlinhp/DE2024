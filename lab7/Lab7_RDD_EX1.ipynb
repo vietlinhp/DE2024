{
 "cells": [
  {
   "cell_type": "code",
   "execution_count": 1,
   "id": "69c65a42",
   "metadata": {},
   "outputs": [],
   "source": [
    "from pyspark.sql import SparkSession\n",
    "spark = SparkSession.builder.appName(\"Lab7_RDD_EX1\").master(\"spark://spark-master:7077\").getOrCreate() \n",
    "sc = spark.sparkContext\n",
    "sc.setLogLevel('FATAL')\n",
    "lines_rdd = spark.sparkContext.textFile(\"/home/jovyan/data/wordcount.txt\") # create a RDD from a text file"
   ]
  },
  {
   "cell_type": "markdown",
   "id": "c2edbd58-c427-4f67-a447-9b77368469de",
   "metadata": {},
   "source": [
    "## Find the most frequent word"
   ]
  },
  {
   "cell_type": "code",
   "execution_count": 2,
   "id": "157d1ea8-56ae-4e32-9200-b5153a8c05a9",
   "metadata": {},
   "outputs": [
    {
     "name": "stdout",
     "output_type": "stream",
     "text": [
      "<class 'tuple'>\n",
      "Top word is the\n"
     ]
    }
   ],
   "source": [
    "from operator import add\n",
    "\n",
    "def myMapFun1(x):\n",
    "    return (x, 1)\n",
    "\n",
    "def myMapFun2(x):\n",
    "    return (x[1], x[0])\n",
    "\n",
    "# MapReduce Job 1\n",
    "word_counts = lines_rdd.flatMap(lambda x: x.split(' ')) \\\n",
    "                  .map(myMapFun1) \\\n",
    "                  .reduceByKey(add)\n",
    "\n",
    "# MapReduce Job 2\n",
    "word_counts_ordered = word_counts.map(myMapFun2).sortByKey(ascending=False)\n",
    "top_word_tuple = word_counts_ordered.take(1)[0]  # also there is a function top\n",
    "print(type(top_word_tuple))\n",
    "print(\"Top word is {}\".format(top_word_tuple[1]))"
   ]
  },
  {
   "cell_type": "markdown",
   "id": "e98f7fc3-da7b-4b2b-9c5b-c497eaeaa5e3",
   "metadata": {},
   "source": [
    "## Use of Custom Reduce Function"
   ]
  },
  {
   "cell_type": "code",
   "execution_count": 3,
   "id": "4d1ebe1d-c3b1-4250-b03b-b8b3d1fd377f",
   "metadata": {},
   "outputs": [],
   "source": [
    "# The function should be associative and commutative. The first parameter is the return value from the previous execution of the reduce function\n",
    "def custom_add(accum,x):\n",
    "    return accum+x"
   ]
  },
  {
   "cell_type": "code",
   "execution_count": 4,
   "id": "7e3abcc6-5a2e-4103-8b3c-c57cda1c9e8b",
   "metadata": {},
   "outputs": [
    {
     "name": "stdout",
     "output_type": "stream",
     "text": [
      "[(22, 'the')]\n"
     ]
    }
   ],
   "source": [
    "word_counts_2 = lines_rdd.flatMap(lambda x: x.split(' ')) \\\n",
    "                  .map(myMapFun1) \\\n",
    "                  .reduceByKey(custom_add)\n",
    "print(word_counts_2.map(myMapFun2).sortByKey(ascending=False).take(1))"
   ]
  },
  {
   "cell_type": "code",
   "execution_count": 5,
   "id": "9cc727df-50c0-4297-aad7-bcb57d715401",
   "metadata": {},
   "outputs": [],
   "source": [
    "# Stop the spark context\n",
    "spark.stop()"
   ]
  },
  {
   "cell_type": "markdown",
   "id": "0d9c0ee8-88ff-4383-82f3-f2437498dcf5",
   "metadata": {},
   "source": [
    "## How to calculate average and max/min\n",
    "\n",
    "https://stackoverflow.com/questions/51236850/how-to-find-an-average-for-a-spark-rdd\n",
    "\n",
    "https://stackoverflow.com/questions/44176782/spark-python-how-to-use-reduce-by-key-to-get-minmum-maximum-values"
   ]
  }
 ],
 "metadata": {
  "kernelspec": {
   "display_name": "Python 3 (ipykernel)",
   "language": "python",
   "name": "python3"
  },
  "language_info": {
   "codemirror_mode": {
    "name": "ipython",
    "version": 3
   },
   "file_extension": ".py",
   "mimetype": "text/x-python",
   "name": "python",
   "nbconvert_exporter": "python",
   "pygments_lexer": "ipython3",
   "version": "3.11.6"
  }
 },
 "nbformat": 4,
 "nbformat_minor": 5
}
